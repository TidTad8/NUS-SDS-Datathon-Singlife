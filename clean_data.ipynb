{
  "nbformat": 4,
  "nbformat_minor": 0,
  "metadata": {
    "colab": {
      "provenance": []
    },
    "kernelspec": {
      "name": "python3",
      "display_name": "Python 3"
    },
    "language_info": {
      "name": "python"
    }
  },
  "cells": [
    {
      "cell_type": "code",
      "source": [
        "import pandas as pd\n",
        "import numpy as np\n",
        "from datetime import datetime\n",
        "from sklearn.preprocessing import LabelEncoder"
      ],
      "metadata": {
        "id": "nc19dQGg14fD"
      },
      "execution_count": 119,
      "outputs": []
    },
    {
      "cell_type": "code",
      "execution_count": 120,
      "metadata": {
        "id": "u6PDr47fORg6"
      },
      "outputs": [],
      "source": [
        "# Load the CSV file into a DataFrame\n",
        "df = pd.read_csv('/content/data.csv')"
      ]
    },
    {
      "cell_type": "code",
      "source": [
        "\n",
        "columns_to_drop = ['sumins_grp_94baec', 'prempaid_inv_dcd836', 'prempaid_lh_d0adeb',\n",
        "                   'prempaid_gi_a10d1b', 'prempaid_gi_29d435', 'prempaid_gi_856320',\n",
        "                   'prempaid_gi_058815', 'prempaid_32c74c', 'ape_gi', 'sumins_gi',\n",
        "                   'prempaid_d0adeb', 'prempaid_gi', 'sumins_d0adeb', 'sumins_e22a6a',\n",
        "                   'ape_d0adeb', 'prempaid_gi_42e115', 'prempaid_ltc_1280bf', 'sumins_32c74c',\n",
        "                   'sumins_gi_058815', 'ape_ltc_1280bf', 'ape_gi_42e115', 'ape_inv_dcd836',\n",
        "                   'ape_lh_d0adeb', 'ape_gi_a10d1b', 'ape_gi_29d435', 'ape_gi_856320',\n",
        "                   'ape_gi_058815', 'ape_32c74c', 'sumins_gi_42e115', 'sumins_ltc_1280bf',\n",
        "                   'sumins_inv_dcd836', 'sumins_lh_d0adeb', 'sumins_grp_22decf',\n",
        "                   'sumins_gi_a10d1b', 'sumins_gi_29d435', 'sumins_lh_e22a6a', 'sumins_grp_e04c3a',\n",
        "                   'sumins_gi_856320']\n",
        "# Drop the specified columns from the DataFrame\n",
        "df.drop(columns=columns_to_drop, inplace=True)\n",
        "\n",
        "\n",
        "df.dropna(subset=['flg_substandard'], inplace=True)\n",
        "df.dropna(subset=['race_desc'], inplace=True)\n",
        "values_to_drop = [\"unknown country code\", \"not applicable\", \"\"]\n",
        "df = df[~df['ctrycode_desc'].isin(values_to_drop)]"
      ],
      "metadata": {
        "id": "1n2gU_orO7Do"
      },
      "execution_count": 121,
      "outputs": []
    },
    {
      "cell_type": "code",
      "source": [
        "df['is_consent'] = (df['is_consent_to_mail'] + df['is_consent_to_email'] +\n",
        "                    df['is_consent_to_call'] + df['is_consent_to_sms']) > 2\n",
        "\n",
        "# Convert boolean values to 1s and 0s\n",
        "df['is_consent'] = df['is_consent'].astype(int)\n",
        "df['is_consent']"
      ],
      "metadata": {
        "colab": {
          "base_uri": "https://localhost:8080/"
        },
        "id": "UGJqGFQuO9zQ",
        "outputId": "3423067d-c4e2-4be2-bf43-68fb98698bc8"
      },
      "execution_count": 122,
      "outputs": [
        {
          "output_type": "execute_result",
          "data": {
            "text/plain": [
              "0        0\n",
              "1        0\n",
              "2        0\n",
              "3        0\n",
              "4        1\n",
              "        ..\n",
              "17986    1\n",
              "17988    0\n",
              "17989    0\n",
              "17990    0\n",
              "17991    0\n",
              "Name: is_consent, Length: 13636, dtype: int64"
            ]
          },
          "metadata": {},
          "execution_count": 122
        }
      ]
    },
    {
      "cell_type": "code",
      "source": [
        "df['is_valid'] = (df['is_valid_dm'] + df['is_valid_email']) > 1\n",
        "\n",
        "# Convert boolean values to 1s and 0s\n",
        "df['is_valid'] = df['is_valid'].astype(int)"
      ],
      "metadata": {
        "id": "HwJAwOC0sW6j"
      },
      "execution_count": 123,
      "outputs": []
    },
    {
      "cell_type": "code",
      "source": [
        "# repalce nan as 6\n",
        "df['hh_size_est'] = df['hh_size_est'].fillna(6)\n",
        "\n",
        "# replace '>4' as 5\n",
        "df['hh_size_est'] = df['hh_size_est'].replace('>4', 5)\n",
        "\n",
        "# Convert the column to integer type\n",
        "df['hh_size_est'] = df['hh_size_est'].astype(int)"
      ],
      "metadata": {
        "id": "b0vL2Z8ltTsX"
      },
      "execution_count": 124,
      "outputs": []
    },
    {
      "cell_type": "code",
      "source": [
        "income_mapping = {\n",
        "    'A.ABOVE200K': 1,\n",
        "    'B.100K-200K': 2,\n",
        "    'C.60K-100K': 3,\n",
        "    'D.30K-60K': 4,\n",
        "    'E.BELOW30K': 5\n",
        "}\n",
        "\n",
        "# Map the 'annual_income_est' column using the defined mapping\n",
        "df['annual_income_est'] = df['annual_income_est'].map(income_mapping)\n",
        "\n",
        "# Replace NaN values with 6\n",
        "df['annual_income_est'].fillna(6, inplace=True)\n",
        "\n",
        "# Convert the column to integer type\n",
        "df['annual_income_est'] = df['annual_income_est'].astype(int)"
      ],
      "metadata": {
        "id": "LgJaxeDD1l5i"
      },
      "execution_count": 125,
      "outputs": []
    },
    {
      "cell_type": "code",
      "source": [
        "ape_columns = df.filter(regex=r'^ape_(?!lapse_).*')\n",
        "# Sum values along columns to create the new \"total_ape\" column\n",
        "df['total_ape'] = ape_columns.sum(axis=1)"
      ],
      "metadata": {
        "id": "39lg4wKy37Hu"
      },
      "execution_count": 126,
      "outputs": []
    },
    {
      "cell_type": "code",
      "source": [
        "sumins_col = df.filter(like='sumins_')\n",
        "df['total_sumins'] = sumins_col.sum(axis=1)"
      ],
      "metadata": {
        "id": "uD7Wok864VGv"
      },
      "execution_count": 127,
      "outputs": []
    },
    {
      "cell_type": "code",
      "source": [
        "prempaid_col = df.filter(like='prempaid_')\n",
        "df['total_prempaid'] = prempaid_col.sum(axis=1)"
      ],
      "metadata": {
        "id": "4OQqyNeG43Bj"
      },
      "execution_count": 128,
      "outputs": []
    },
    {
      "cell_type": "code",
      "source": [
        "# Drop rows with 'None' values in the 'cltdob_fix' column\n",
        "df = df[df['cltdob_fix'] != 'None']\n",
        "\n",
        "# Split the \"cltdob_fix\" column into year, month, and day components\n",
        "df['cltdob_fix'] = pd.to_datetime(df['cltdob_fix'], errors='coerce')  # Convert to datetime and handle invalid dates\n",
        "\n",
        "# Calculate the current date\n",
        "current_date = datetime.now()\n",
        "\n",
        "# Define a function to calculate age\n",
        "def calculate_age(row):\n",
        "    if pd.isnull(row['cltdob_fix']):\n",
        "        return pd.NA\n",
        "    birth_date = row['cltdob_fix']\n",
        "    age = current_date.year - birth_date.year - ((current_date.month, current_date.day) < (birth_date.month, birth_date.day))\n",
        "    return age\n",
        "\n",
        "# Apply the function to calculate age and create the 'age' column\n",
        "df['age'] = df.apply(calculate_age, axis=1)\n",
        "\n",
        "# Drop the intermediate columns 'year', 'month', and 'day' if not needed\n",
        "df.drop(['cltdob_fix'], axis=1, inplace=True)"
      ],
      "metadata": {
        "id": "DYEOEWoX5Dg8"
      },
      "execution_count": 129,
      "outputs": []
    },
    {
      "cell_type": "code",
      "source": [
        "df['stat_flag_encoded'] = label_encoder.fit_transform(df['stat_flag'])"
      ],
      "metadata": {
        "id": "iMNSKudD9fbT"
      },
      "execution_count": 131,
      "outputs": []
    },
    {
      "cell_type": "code",
      "source": [
        "# Encode the 'cltsex_fix' column\n",
        "df['cltsex_encoded'] = label_encoder.fit_transform(df['cltsex_fix'])"
      ],
      "metadata": {
        "id": "oTddyqhm_sdN"
      },
      "execution_count": 133,
      "outputs": []
    }
  ]
}