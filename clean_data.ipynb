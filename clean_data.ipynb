{
  "cells": [
    {
      "cell_type": "code",
      "execution_count": 46,
      "metadata": {
        "id": "nc19dQGg14fD"
      },
      "outputs": [],
      "source": [
        "import pandas as pd\n",
        "import numpy as np\n",
        "from datetime import datetime\n",
        "from sklearn.preprocessing import LabelEncoder"
      ]
    },
    {
      "cell_type": "code",
      "execution_count": 47,
      "metadata": {
        "id": "u6PDr47fORg6"
      },
      "outputs": [],
      "source": [
        "# Load the CSV file into a DataFrame\n",
        "df = pd.read_csv(r'C:\\Users\\nicholassng\\OneDrive - Singapore Institute Of Technology\\Desktop\\datathon\\data.csv')"
      ]
    },
    {
      "cell_type": "code",
      "execution_count": 48,
      "metadata": {
        "id": "1n2gU_orO7Do"
      },
      "outputs": [],
      "source": [
        "\n",
        "columns_to_drop = ['sumins_grp_94baec', 'prempaid_inv_dcd836', 'prempaid_lh_d0adeb',\n",
        "                   'prempaid_gi_a10d1b', 'prempaid_gi_29d435', 'prempaid_gi_856320',\n",
        "                   'prempaid_gi_058815', 'prempaid_32c74c', 'ape_gi', 'sumins_gi',\n",
        "                   'prempaid_d0adeb', 'prempaid_gi', 'sumins_d0adeb', 'sumins_e22a6a',\n",
        "                   'ape_d0adeb', 'prempaid_gi_42e115', 'prempaid_ltc_1280bf', 'sumins_32c74c',\n",
        "                   'sumins_gi_058815', 'ape_ltc_1280bf', 'ape_gi_42e115', 'ape_inv_dcd836',\n",
        "                   'ape_lh_d0adeb', 'ape_gi_a10d1b', 'ape_gi_29d435', 'ape_gi_856320',\n",
        "                   'ape_gi_058815', 'ape_32c74c', 'sumins_gi_42e115', 'sumins_ltc_1280bf',\n",
        "                   'sumins_inv_dcd836', 'sumins_lh_d0adeb', 'sumins_grp_22decf',\n",
        "                   'sumins_gi_a10d1b', 'sumins_gi_29d435', 'sumins_lh_e22a6a', 'sumins_grp_e04c3a',\n",
        "                   'sumins_gi_856320']\n",
        "# Drop the specified columns from the DataFrame\n",
        "df.drop(columns=columns_to_drop, inplace=True)\n",
        "\n",
        "\n",
        "df.dropna(subset=['flg_substandard'], inplace=True)\n",
        "df.dropna(subset=['hh_size_est'], inplace=True)\n",
        "df.dropna(subset=['race_desc'], inplace=True)\n",
        "df = df[(df['pop_20'] != '') & (df['pop_20'] != 0)]\n",
        "df = df[~df['ctrycode_desc'].isin([\"unknown country code\", \"\"])] # drop blanks and unknown country code\n",
        "df = df.filter(regex=r'^(?!f_hold)') #remove f_hold columns "
      ]
    },
    {
      "cell_type": "code",
      "execution_count": 49,
      "metadata": {
        "colab": {
          "base_uri": "https://localhost:8080/"
        },
        "id": "UGJqGFQuO9zQ",
        "outputId": "3423067d-c4e2-4be2-bf43-68fb98698bc8"
      },
      "outputs": [],
      "source": [
        "df['is_consent'] = (df['is_consent_to_mail'] + df['is_consent_to_email'] +\n",
        "                    df['is_consent_to_call'] + df['is_consent_to_sms']) > 2\n",
        "\n",
        "# Convert boolean values to 1s and 0s\n",
        "df['is_consent'] = df['is_consent'].astype(int)"
      ]
    },
    {
      "cell_type": "code",
      "execution_count": 50,
      "metadata": {
        "id": "HwJAwOC0sW6j"
      },
      "outputs": [],
      "source": [
        "df['is_valid'] = (df['is_valid_dm'] + df['is_valid_email']) > 1\n",
        "\n",
        "# Convert boolean values to 1s and 0s\n",
        "df['is_valid'] = df['is_valid'].astype(int)"
      ]
    },
    {
      "cell_type": "code",
      "execution_count": 51,
      "metadata": {
        "id": "b0vL2Z8ltTsX"
      },
      "outputs": [],
      "source": [
        "# replace '>4' as 5\n",
        "df['hh_size_est'] = df['hh_size_est'].replace('>4', 5)\n",
        "\n",
        "# Convert the column to integer type\n",
        "df['hh_size_est'] = df['hh_size_est'].astype(int)"
      ]
    },
    {
      "cell_type": "code",
      "execution_count": 52,
      "metadata": {
        "id": "LgJaxeDD1l5i"
      },
      "outputs": [
        {
          "name": "stderr",
          "output_type": "stream",
          "text": [
            "C:\\Users\\nicholassng\\AppData\\Local\\Temp\\ipykernel_8376\\3979558514.py:13: FutureWarning: A value is trying to be set on a copy of a DataFrame or Series through chained assignment using an inplace method.\n",
            "The behavior will change in pandas 3.0. This inplace method will never work because the intermediate object on which we are setting values always behaves as a copy.\n",
            "\n",
            "For example, when doing 'df[col].method(value, inplace=True)', try using 'df.method({col: value}, inplace=True)' or df[col] = df[col].method(value) instead, to perform the operation inplace on the original object.\n",
            "\n",
            "\n",
            "  df['annual_income_est'].fillna(6, inplace=True)\n"
          ]
        }
      ],
      "source": [
        "income_mapping = {\n",
        "    'A.ABOVE200K': 1,\n",
        "    'B.100K-200K': 2,\n",
        "    'C.60K-100K': 3,\n",
        "    'D.30K-60K': 4,\n",
        "    'E.BELOW30K': 5\n",
        "}\n",
        "\n",
        "# Map the 'annual_income_est' column using the defined mapping\n",
        "df['annual_income_est'] = df['annual_income_est'].map(income_mapping)\n",
        "\n",
        "# Replace NaN values with 6\n",
        "df['annual_income_est'].fillna(6, inplace=True)\n",
        "\n",
        "# Convert the column to integer type\n",
        "df['annual_income_est'] = df['annual_income_est'].astype(int)"
      ]
    },
    {
      "cell_type": "code",
      "execution_count": 53,
      "metadata": {
        "id": "39lg4wKy37Hu"
      },
      "outputs": [],
      "source": [
        "ape_columns = df.filter(regex=r'^ape_(?!lapse_).*')\n",
        "# Sum values along columns to create the new \"total_ape\" column\n",
        "df['total_ape'] = ape_columns.sum(axis=1)"
      ]
    },
    {
      "cell_type": "code",
      "execution_count": 54,
      "metadata": {
        "id": "uD7Wok864VGv"
      },
      "outputs": [],
      "source": [
        "sumins_col = df.filter(like='sumins_')\n",
        "df['total_sumins'] = sumins_col.sum(axis=1)"
      ]
    },
    {
      "cell_type": "code",
      "execution_count": 55,
      "metadata": {
        "id": "4OQqyNeG43Bj"
      },
      "outputs": [],
      "source": [
        "prempaid_col = df.filter(like='prempaid_')\n",
        "df['total_prempaid'] = prempaid_col.sum(axis=1)"
      ]
    },
    {
      "cell_type": "code",
      "execution_count": 56,
      "metadata": {
        "id": "DYEOEWoX5Dg8"
      },
      "outputs": [],
      "source": [
        "# Drop rows with 'None' values in the 'cltdob_fix' column\n",
        "df = df[df['cltdob_fix'] != 'None']\n",
        "\n",
        "# Split the \"cltdob_fix\" column into year, month, and day components\n",
        "df['cltdob_fix'] = pd.to_datetime(df['cltdob_fix'], errors='coerce')  # Convert to datetime and handle invalid dates\n",
        "\n",
        "# Calculate the current date\n",
        "current_date = datetime.now()\n",
        "\n",
        "# Define a function to calculate age\n",
        "def calculate_age(row):\n",
        "    if pd.isnull(row['cltdob_fix']):\n",
        "        return pd.NA\n",
        "    birth_date = row['cltdob_fix']\n",
        "    age = current_date.year - birth_date.year - ((current_date.month, current_date.day) < (birth_date.month, birth_date.day))\n",
        "    return age\n",
        "\n",
        "# Apply the function to calculate age and create the 'age' column\n",
        "df['age'] = df.apply(calculate_age, axis=1)\n",
        "\n",
        "# Drop the intermediate columns 'year', 'month', and 'day' if not needed\n",
        "df.drop(['cltdob_fix'], axis=1, inplace=True)"
      ]
    },
    {
      "cell_type": "code",
      "execution_count": 57,
      "metadata": {
        "id": "iMNSKudD9fbT"
      },
      "outputs": [],
      "source": [
        "label_encoder = LabelEncoder()\n",
        "df['stat_flag_encoded'] = label_encoder.fit_transform(df['stat_flag'])"
      ]
    },
    {
      "cell_type": "code",
      "execution_count": 58,
      "metadata": {
        "id": "oTddyqhm_sdN"
      },
      "outputs": [],
      "source": [
        "# Encode the 'cltsex_fix' column\n",
        "df['cltsex_encoded'] = label_encoder.fit_transform(df['cltsex_fix'])"
      ]
    },
    {
      "cell_type": "code",
      "execution_count": 59,
      "metadata": {},
      "outputs": [],
      "source": [
        "# Replace all blank values in 'f_ever_declined_la' with '0'\n",
        "df['f_ever_declined_la'] = df['f_ever_declined_la'].fillna('0')"
      ]
    },
    {
      "cell_type": "code",
      "execution_count": null,
      "metadata": {},
      "outputs": [],
      "source": []
    },
    {
      "cell_type": "code",
      "execution_count": 60,
      "metadata": {},
      "outputs": [],
      "source": [
        "# df of cleaned data"
      ]
    }
  ],
  "metadata": {
    "colab": {
      "provenance": []
    },
    "kernelspec": {
      "display_name": "Python 3",
      "name": "python3"
    },
    "language_info": {
      "codemirror_mode": {
        "name": "ipython",
        "version": 3
      },
      "file_extension": ".py",
      "mimetype": "text/x-python",
      "name": "python",
      "nbconvert_exporter": "python",
      "pygments_lexer": "ipython3",
      "version": "3.10.6"
    }
  },
  "nbformat": 4,
  "nbformat_minor": 0
}
